{
 "metadata": {
  "language": "Julia",
  "name": "",
  "signature": "sha256:ea9a9005cd1678deba52ef38857625e4f100df0f5f64fce7b1f1a3790ebe619c"
 },
 "nbformat": 3,
 "nbformat_minor": 0,
 "worksheets": [
  {
   "cells": [
    {
     "cell_type": "markdown",
     "metadata": {},
     "source": [
      "The current representation of random variables is almost but not quite what we need to use with SMT solvers like dReal or Z3.\n",
      "\n",
      "To make the appropriate transformations we could 1) Do pattern transformations 2) Define a new data-type RandVarSMT.\n",
      "\n",
      "### Pattern transformations\n",
      "\n",
      "The problem with this approach is firstly that ther does not appear to be any existing infrastructure.  This is what I built in the original Sigma case, and it was pretty complex.  Julia is a more complex language, syntactically, and I don't want to spend all my time building rewrite systems.\n",
      "\n",
      "### A new data-type\n",
      "\n",
      "Problem here is that from a user perspective, the representation of a random variale should be invisible, at least unless the user has reason, to want to choose.  Even if use does want to choose, she should be choosing which inference algorithm, not this.\n",
      "\n",
      "__Counter points__\n",
      "\n",
      "1. Real users are not my concern right now.\n",
      "2. We can have different representations and still have it transparent to the user\n",
      "\n",
      "__Counter points__\n",
      "\n",
      "1. Granted, except that it could become cumbersome for me to use if I need to change the code when I want to switch between representations.  See 2\n",
      "2. The main place I think it comes up are in primitive distributions\n",
      "\n",
      "## Tentative Solution\n",
      "\n",
      "1. Make a RandVarSMT\n",
      "2. Have primitives distributions for RandVarSMT, e.g. normalsmt\n",
      "3. Replace current primitives to be labelled as abstract interperation e.g. normalai\n",
      "4. Provide defaults e.g normal = normalai\n",
      "5. Eventually provide conversion between the two\n",
      "6. "
     ]
    },
    {
     "cell_type": "code",
     "collapsed": false,
     "input": [
      "                                                                                                                                                                                                                                                                                                                                                                "
     ],
     "language": "python",
     "metadata": {},
     "outputs": []
    }
   ],
   "metadata": {}
  }
 ]
}